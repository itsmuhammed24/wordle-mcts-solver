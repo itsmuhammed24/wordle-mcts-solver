{
 "cells": [
  {
   "cell_type": "code",
   "execution_count": null,
   "id": "aebcfe2d",
   "metadata": {},
   "outputs": [],
   "source": [
    "import pandas as pd\n",
    "import numpy as np\n",
    "import matplotlib.pyplot as plt\n",
    "\n",
    "\n",
    "df = pd.read_csv(\"results.csv\")\n",
    "df_dist = pd.read_csv(\"distribution.csv\")\n",
    "\n",
    "\n",
    "solvers = df[\"Solver\"].tolist()\n",
    "\n",
    "\n",
    "plt.rcParams.update({\n",
    "    \"axes.facecolor\": \"white\",\n",
    "    \"figure.facecolor\": \"white\",\n",
    "    \"savefig.facecolor\": \"white\",\n",
    "    \"grid.color\": \"white\"\n",
    "})\n",
    "df.head()"
   ]
  },
  {
   "cell_type": "code",
   "execution_count": null,
   "id": "4d361c3e",
   "metadata": {},
   "outputs": [],
   "source": [
    "plt.figure(figsize=(10, 5), facecolor=\"white\")\n",
    "\n",
    "bars = plt.bar(df[\"Solver\"], df[\"WinRate\"], color=\"skyblue\", edgecolor=\"black\")\n",
    "plt.xticks(rotation=30, ha=\"right\")\n",
    "plt.ylabel(\"Win Rate\")\n",
    "plt.title(\"Win Rate per Solver\", fontsize=14)\n",
    "\n",
    "for bar, val in zip(bars, df[\"WinRate\"]):\n",
    "    plt.text(bar.get_x() + bar.get_width()/2, bar.get_height(), f\"{val:.2f}\",\n",
    "             ha=\"center\", va=\"bottom\", fontsize=9)\n",
    "\n",
    "plt.tight_layout()\n",
    "plt.savefig(\"plot_winrate.png\", dpi=300, bbox_inches=\"tight\", facecolor=\"white\")\n",
    "plt.show()"
   ]
  },
  {
   "cell_type": "code",
   "execution_count": null,
   "id": "304b8f3f",
   "metadata": {},
   "outputs": [],
   "source": [
    "plt.figure(figsize=(10, 5), facecolor=\"white\")\n",
    "\n",
    "bars = plt.bar(df[\"Solver\"], df[\"AvgGuesses\"], color=\"lightgreen\", edgecolor=\"black\")\n",
    "plt.xticks(rotation=30, ha=\"right\")\n",
    "plt.ylabel(\"Average Guesses (Wins Only)\")\n",
    "plt.title(\"Average Guesses per Solver\", fontsize=14)\n",
    "\n",
    "for bar, val in zip(bars, df[\"AvgGuesses\"]):\n",
    "    plt.text(bar.get_x() + bar.get_width()/2, bar.get_height(), f\"{val:.2f}\",\n",
    "             ha=\"center\", va=\"bottom\", fontsize=9)\n",
    "\n",
    "plt.tight_layout()\n",
    "plt.savefig(\"plot_avg_guesses.png\", dpi=300, bbox_inches=\"tight\", facecolor=\"white\")\n",
    "plt.show()"
   ]
  },
  {
   "cell_type": "code",
   "execution_count": null,
   "id": "0082496b",
   "metadata": {},
   "outputs": [],
   "source": [
    "solvers_to_compare = [\"RandomSolver\", \"FlatMC (entropy)\", \"UCT+RAVE\", \"UCT+GRAVE\"]\n",
    "\n",
    "plt.figure(figsize=(10, 5), facecolor=\"white\")\n",
    "\n",
    "for solver in solvers_to_compare:\n",
    "    subset = df_dist[(df_dist[\"Solver\"] == solver) & (df_dist[\"Guesses\"] != \"fail\")].copy()\n",
    "    subset[\"Guesses\"] = subset[\"Guesses\"].astype(int)\n",
    "    plt.bar(subset[\"Guesses\"], subset[\"Count\"], alpha=0.6, label=solver)\n",
    "\n",
    "plt.xlabel(\"Number of guesses\")\n",
    "plt.ylabel(\"Frequency\")\n",
    "plt.title(\"Guess Distribution (Selected Solvers)\", fontsize=14)\n",
    "plt.legend(frameon=False)\n",
    "plt.tight_layout()\n",
    "plt.savefig(\"plot_histogram.png\", dpi=300, bbox_inches=\"tight\", facecolor=\"white\")\n",
    "plt.show()"
   ]
  },
  {
   "cell_type": "code",
   "execution_count": null,
   "id": "d04080b2",
   "metadata": {},
   "outputs": [],
   "source": [
    "solvers_to_compare = [\"RandomSolver\", \"FlatMC (entropy)\", \"UCT+RAVE\", \"UCT+GRAVE\"]\n",
    "\n",
    "plt.figure(figsize=(10, 5), facecolor=\"white\")\n",
    "\n",
    "for solver in solvers_to_compare:\n",
    "    subset = df_dist[(df_dist[\"Solver\"] == solver) & (df_dist[\"Guesses\"] != \"fail\")].copy()\n",
    "    subset[\"Guesses\"] = subset[\"Guesses\"].astype(int)\n",
    "\n",
    "    expanded = np.repeat(subset[\"Guesses\"].values, subset[\"Count\"].values)\n",
    "    expanded = np.sort(expanded)\n",
    "\n",
    "    cdf = np.arange(1, len(expanded)+1) / len(expanded)\n",
    "    plt.step(expanded, cdf, where=\"post\", label=solver)\n",
    "\n",
    "plt.xlabel(\"Number of guesses\")\n",
    "plt.ylabel(\"Cumulative Success Probability\")\n",
    "plt.title(\"CDF of Success (Selected Solvers)\", fontsize=14)\n",
    "plt.legend(frameon=False)\n",
    "plt.tight_layout()\n",
    "plt.savefig(\"plot_cdf.png\", dpi=300, bbox_inches=\"tight\", facecolor=\"white\")\n",
    "plt.show()"
   ]
  }
 ],
 "metadata": {
  "kernelspec": {
   "display_name": ".venv (3.13.2)",
   "language": "python",
   "name": "python3"
  },
  "language_info": {
   "name": "python",
   "version": "3.13.2"
  }
 },
 "nbformat": 4,
 "nbformat_minor": 5
}
